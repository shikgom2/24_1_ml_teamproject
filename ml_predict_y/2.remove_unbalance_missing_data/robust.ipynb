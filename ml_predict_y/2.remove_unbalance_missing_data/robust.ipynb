{
 "cells": [
  {
   "cell_type": "code",
   "execution_count": 5,
   "metadata": {},
   "outputs": [
    {
     "name": "stdout",
     "output_type": "stream",
     "text": [
      "Columns before dropping: ['Unnamed: 0.1', 'Unnamed: 0', 'AGE', 'SEX', 'INF_ANAM', 'STENOK_AN', 'FK_STENOK', 'IBS_POST', 'GB', 'SIM_GIPERT', 'DLIT_AG', 'ZSN_A', 'nr_11', 'nr_02', 'nr_03', 'nr_04', 'endocr_01', 'endocr_02', 'zab_leg_01', 'zab_leg_02', 'zab_leg_03', 'zab_leg_06', 'S_AD_ORIT', 'D_AD_ORIT', 'O_L_POST', 'K_SH_POST', 'MP_TP_POST', 'ant_im', 'lat_im', 'inf_im', 'post_im', 'IM_PG_P', 'ritm_ecg_p_01', 'ritm_ecg_p_02', 'ritm_ecg_p_04', 'ritm_ecg_p_07', 'ritm_ecg_p_08', 'n_r_ecg_p_01', 'n_r_ecg_p_03', 'n_r_ecg_p_04', 'n_r_ecg_p_05', 'n_r_ecg_p_06', 'n_p_ecg_p_03', 'n_p_ecg_p_06', 'n_p_ecg_p_07', 'n_p_ecg_p_10', 'n_p_ecg_p_11', 'n_p_ecg_p_12', 'fibr_ter_03', 'GIPO_K', 'K_BLOOD', 'GIPER_NA', 'NA_BLOOD', 'ALT_BLOOD', 'AST_BLOOD', 'L_BLOOD', 'ROE', 'TIME_B_S', 'R_AB_1_n', 'R_AB_2_n', 'R_AB_3_n', 'NITR_S', 'NA_R_1_n', 'NA_R_2_n', 'NA_R_3_n', 'NOT_NA_1_n', 'NOT_NA_2_n', 'NOT_NA_3_n', 'LID_S_n', 'B_BLOK_S_n', 'ANT_CA_S_n', 'GEPAR_S_n', 'ASP_S_n', 'TIKL_S_n', 'TRENT_S_n']\n",
      "Continuous Variables: ['AGE', 'S_AD_ORIT', 'D_AD_ORIT', 'K_BLOOD', 'NA_BLOOD', 'ALT_BLOOD', 'AST_BLOOD', 'L_BLOOD', 'ROE']\n",
      "Categorical Variables: ['INF_ANAM', 'STENOK_AN', 'FK_STENOK', 'IBS_POST', 'GB', 'DLIT_AG', 'ZSN_A', 'ant_im', 'lat_im', 'inf_im', 'post_im', 'TIME_B_S', 'R_AB_1_n', 'R_AB_2_n', 'R_AB_3_n', 'NA_R_1_n', 'NA_R_2_n', 'NA_R_3_n', 'NOT_NA_1_n', 'NOT_NA_2_n', 'NOT_NA_3_n']\n",
      "Binary Variables: ['SEX', 'SIM_GIPERT', 'nr_11', 'nr_02', 'nr_03', 'nr_04', 'endocr_01', 'endocr_02', 'zab_leg_01', 'zab_leg_02', 'zab_leg_03', 'zab_leg_06', 'O_L_POST', 'K_SH_POST', 'MP_TP_POST', 'IM_PG_P', 'ritm_ecg_p_01', 'ritm_ecg_p_02', 'ritm_ecg_p_04', 'ritm_ecg_p_07', 'ritm_ecg_p_08', 'n_r_ecg_p_01', 'n_r_ecg_p_03', 'n_r_ecg_p_04', 'n_r_ecg_p_05', 'n_r_ecg_p_06', 'n_p_ecg_p_03', 'n_p_ecg_p_06', 'n_p_ecg_p_07', 'n_p_ecg_p_10', 'n_p_ecg_p_11', 'n_p_ecg_p_12', 'fibr_ter_03', 'GIPO_K', 'GIPER_NA', 'NITR_S', 'LID_S_n', 'B_BLOK_S_n', 'ANT_CA_S_n', 'GEPAR_S_n', 'ASP_S_n', 'TIKL_S_n', 'TRENT_S_n']\n",
      "Shape after transformation: (3400, 132)\n"
     ]
    }
   ],
   "source": [
    "import pandas as pd\n",
    "import numpy as np\n",
    "from sklearn.preprocessing import RobustScaler, OneHotEncoder\n",
    "\n",
    "# Load the CSV file\n",
    "file_path = './1_5.csv'  # 파일 경로를 적절히 수정하세요\n",
    "data = pd.read_csv(file_path)\n",
    "\n",
    "# Check the columns in the dataframe\n",
    "print(\"Columns before dropping:\", data.columns.tolist())\n",
    "\n",
    "# Identify and drop columns that are either unnamed or completely empty\n",
    "columns_to_drop = [col for col in data.columns if 'Unnamed' in col or data[col].isnull().all() or data[col].eq('').all()]\n",
    "data = data.drop(columns=columns_to_drop)\n",
    "\n",
    "# Identifying types of variables\n",
    "continuous_vars = []\n",
    "categorical_vars = []\n",
    "binary_vars = []\n",
    "\n",
    "for column in data.columns:\n",
    "    unique_values = data[column].nunique()\n",
    "    if unique_values == 2:\n",
    "        binary_vars.append(column)\n",
    "    elif unique_values <= 10:\n",
    "        categorical_vars.append(column)\n",
    "    else:\n",
    "        continuous_vars.append(column)\n",
    "\n",
    "# Print the identified variables\n",
    "print(\"Continuous Variables:\", continuous_vars)\n",
    "print(\"Categorical Variables:\", categorical_vars)\n",
    "print(\"Binary Variables:\", binary_vars)\n",
    "\n",
    "# Apply RobustScaler to continuous variables\n",
    "scaler = RobustScaler()\n",
    "data[continuous_vars] = scaler.fit_transform(data[continuous_vars])\n",
    "\n",
    "# Apply OneHotEncoder to categorical variables\n",
    "encoder = OneHotEncoder(sparse_output=False, drop='first')  # drop='first' to avoid multicollinearity\n",
    "encoded_categorical_data = encoder.fit_transform(data[categorical_vars])\n",
    "encoded_categorical_df = pd.DataFrame(encoded_categorical_data, columns=encoder.get_feature_names_out(categorical_vars))\n",
    "\n",
    "# Drop original categorical columns and concatenate encoded columns\n",
    "data = data.drop(columns=categorical_vars)\n",
    "data = pd.concat([data, encoded_categorical_df], axis=1)\n",
    "\n",
    "# Check after transformed data shape\n",
    "print(\"Shape after transformation:\", data.shape)\n",
    "\n",
    "# If you want to save the transformed dataframe to a new CSV file\n",
    "output_path = './2-robust_onehot_1_5.csv'  # 파일 저장 경로를 적절히 수정하세요\n",
    "data.to_csv(output_path, index=False)\n"
   ]
  },
  {
   "cell_type": "code",
   "execution_count": null,
   "metadata": {},
   "outputs": [],
   "source": []
  }
 ],
 "metadata": {
  "kernelspec": {
   "display_name": "base",
   "language": "python",
   "name": "python3"
  },
  "language_info": {
   "codemirror_mode": {
    "name": "ipython",
    "version": 3
   },
   "file_extension": ".py",
   "mimetype": "text/x-python",
   "name": "python",
   "nbconvert_exporter": "python",
   "pygments_lexer": "ipython3",
   "version": "3.10.10"
  }
 },
 "nbformat": 4,
 "nbformat_minor": 2
}
