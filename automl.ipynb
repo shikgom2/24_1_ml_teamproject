{
 "cells": [
  {
   "cell_type": "code",
   "execution_count": null,
   "metadata": {},
   "outputs": [],
   "source": [
    "import pandas as pd\n",
    "import numpy as np\n",
    "from supervised import AutoML\n",
    "from sklearn.model_selection import KFold\n",
    "from sklearn.metrics import roc_auc_score\n",
    "\n",
    "# 데이터 로드\n",
    "feature_df = pd.read_csv('./features_reduced.csv')\n",
    "target_df = pd.read_csv('./target.csv')\n",
    "\n",
    "# feature와 target 결합\n",
    "X = feature_df\n",
    "y = target_df.drop(columns='Unnamed: 0').values.ravel()\n",
    "\n",
    "# 교차 검증 설정\n",
    "kfold = KFold()\n",
    "\n",
    "# 교차 검증 수행\n",
    "scores = []\n",
    "for fold, (train_idx, val_idx) in enumerate(kfold.split(X), 1):\n",
    "    # model = AutoML(mode='Compete')\n",
    "    model = AutoML() # default mode = 'Explain'\n",
    "    trainX, trainy = X[train_idx], y[train_idx]\n",
    "    valX, valy = X[val_idx], y[val_idx]\n",
    "    model.fit(trainX, trainy)\n",
    "    predictions = model.predict(valX)\n",
    "    scores.append(roc_auc_score(valy, predictions))\n",
    "    \n",
    "# 평균 점수 출력\n",
    "print(\"Mean AUC Score:\", np.mean(scores))\n"
   ]
  },
  {
   "cell_type": "code",
   "execution_count": null,
   "metadata": {},
   "outputs": [],
   "source": []
  }
 ],
 "metadata": {
  "language_info": {
   "name": "python"
  }
 },
 "nbformat": 4,
 "nbformat_minor": 2
}
